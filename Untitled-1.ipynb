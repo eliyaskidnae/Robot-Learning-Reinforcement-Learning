{
 "cells": [
  {
   "cell_type": "markdown",
   "metadata": {
    "id": "oTBbTsk4vGkY"
   },
   "source": [
    "# **Robot Learning – Reinforcement Learning**"
   ]
  },
  {
   "cell_type": "markdown",
   "metadata": {
    "id": "qCnQbiFVvG0A"
   },
   "source": [
    "The goal of this practical exercise is to implement a Reinforcement Learning algorithm to learn a policy that moves a robot to a goal position. The algorithm is the Q-learning algorithm.\n",
    "\n",
    "## The Problem\n",
    "The problem consists in finding the goal in a finite 2D environment that is closed and contains some obstacles.\n",
    "\n",
    "**States and actions:** The size of the environment is 20x14=280 states. The robot can only do 4 different actions: {←, ↑, →, ↓} (not diagonal movements!). Therefore the size of the Q function will be 280x4=1120 cells.\n",
    "\n",
    "**Dynamics:** The robot can be located in any free cell (not in the obstacle cells!). The function that describes the dynamics is very simple: the robot will move ONE cell per iteration to the direction of the action that we select, unless there is an obstacle or the wall in front of it, in which case it will\n",
    "stay in the same position.\n",
    "\n",
    "**Reinforcement function:** Since the goal is to reach the goal position as fast as possible, the reinforcement function will give -1 in all cells except in the goal cell, where the reward will be +1. The cell that contains the goal is (3,17)."
   ]
  },
  {
   "cell_type": "markdown",
   "metadata": {
    "id": "GIrgWmuPulz-"
   },
   "source": [
    "## Data"
   ]
  },
  {
   "cell_type": "markdown",
   "metadata": {
    "id": "9so0pzxsvUyn"
   },
   "source": [
    "Next you have the map that will be used as the environment for the Q-learning algorithm:"
   ]
  },
  {
   "cell_type": "code",
   "execution_count": 8,
   "metadata": {
    "id": "CggQ83Bzul0E"
   },
   "outputs": [
    {
     "data": {
      "text/plain": [
       "<matplotlib.colorbar.Colorbar at 0x70df3c565e20>"
      ]
     },
     "execution_count": 8,
     "metadata": {},
     "output_type": "execute_result"
    },
    {
     "data": {
      "image/png": "[encoded data removed]",
      "text/plain": [
       "<Figure size 685.714x480 with 2 Axes>"
      ]
     },
     "metadata": {},
     "output_type": "display_data"
    }
   ],
   "source": [
    "from matplotlib import pyplot as plt\n",
    "import numpy as np\n",
    "\n",
    "# Proposed Map\n",
    "map=[\n",
    "[1, 1, 1, 1, 1, 1, 1, 1, 1, 1, 1, 1, 1, 1, 1, 1, 1, 1, 1, 1],\n",
    "[1, 0, 0, 0, 0, 0, 1, 1, 0, 0, 0, 0, 0, 0, 1, 1, 0, 0, 0, 1],\n",
    "[1, 0, 0, 0, 0, 0, 1, 1, 0, 0, 0, 0, 0, 0, 1, 1, 0, 0, 0, 1],\n",
    "[1, 0, 0, 0, 0, 0, 0, 0, 0, 0, 0, 0, 0, 0, 1, 1, 0, 0, 0, 1],\n",
    "[1, 0, 0, 0, 0, 0, 0, 0, 0, 0, 0, 0, 0, 0, 1, 1, 0, 0, 0, 1],\n",
    "[1, 0, 0, 0, 0, 0, 0, 0, 0, 0, 0, 0, 0, 0, 1, 1, 0, 0, 0, 1],\n",
    "[1, 0, 0, 0, 1, 1, 1, 1, 1, 0, 0, 0, 0, 0, 1, 1, 0, 0, 0, 1],\n",
    "[1, 0, 0, 0, 1, 1, 1, 1, 1, 0, 0, 0, 0, 0, 0, 0, 0, 0, 0, 1],\n",
    "[1, 0, 0, 0, 0, 0, 0, 1, 1, 0, 0, 0, 0, 0, 0, 0, 0, 0, 0, 1],\n",
    "[1, 0, 0, 0, 0, 0, 0, 1, 1, 0, 0, 0, 0, 0, 0, 0, 0, 0, 0, 1],\n",
    "[1, 0, 0, 0, 0, 0, 0, 0, 0, 0, 0, 0, 0, 0, 1, 0, 0, 0, 0, 1],\n",
    "[1, 0, 0, 0, 0, 0, 0, 0, 0, 0, 0, 0, 0, 1, 1, 0, 0, 0, 0, 1],\n",
    "[1, 0, 0, 0, 0, 0, 0, 0, 0, 0, 0, 0, 1, 1, 1, 0, 0, 0, 0, 1],\n",
    "[1, 1, 1, 1, 1, 1, 1, 1, 1, 1, 1, 1, 1, 1, 1, 1, 1, 1, 1, 1]]\n",
    "\n",
    "\n",
    "# Convert Map 2D array to Numpy array\n",
    "grid_map = np.array(map)\n",
    "\n",
    "# Show grid map\n",
    "plt.matshow(grid_map, cmap = \"jet\")\n",
    "plt.title('Original Map')\n",
    "plt.colorbar()\n"
   ]
  },
  {
   "cell_type": "markdown",
   "metadata": {
    "id": "luRN-DT83C7j"
   },
   "source": [
    "## Algorithm\n",
    "\n",
    "In order to implement the Q-learning algorithm, you should follow the next pseudocode:\n",
    "\n",
    "*Initialize Q(s,a) to “0”*\n",
    "\n",
    ">*For n episodes*\n",
    "\n",
    ">>*Initialize s randomly in any free cell*\n",
    "\n",
    ">>*For m iterations repeat*\n",
    "\n",
    ">>>*Choose a following ε-greedy policy*\n",
    "\n",
    ">>>*Take action a, observe r, s’*\n",
    "\n",
    ">>>*Q(s,a)←Q(s,a) + α ( r + γ · maxQ_a’(s’,a’)-Q(s,a))*\n",
    "\n",
    ">>>*s←s’*\n",
    "\n",
    ">>>*if the goal is achieved then finish the episode*\n",
    "\n",
    ">>*endFor*\n",
    "\n",
    "*endFor*\n",
    "\n",
    "\n",
    "You will have to set several parameters experimentally: n, m, ε, α and γ.\n",
    "\n",
    "\n"
   ]
  },
  {
   "cell_type": "markdown",
   "metadata": {
    "id": "O_BIOfiSul0H"
   },
   "source": [
    "## Environment"
   ]
  },
  {
   "cell_type": "markdown",
   "metadata": {
    "id": "45Wso3k5x0ab"
   },
   "source": [
    "In the environment class, you set the possible actions, the rewards obtained depending of those actions and the state of the agent after the action is applied.\n",
    "\n",
    "You have to fill the empty functions following the previous pseudocode."
   ]
  },
  {
   "cell_type": "code",
   "execution_count": 9,
   "metadata": {
    "id": "LXZAnv09ul0I"
   },
   "outputs": [],
   "source": [
    "class MapEnv:\n",
    "    def __init__(self, map, goal):\n",
    "        self.map = map\n",
    "        x,y = self.get_start()\n",
    "        \n",
    "        # while(self.map[x,y]): # if the initial place is obstacle regenerate new start\n",
    "        #     print(\"Obstacle\")\n",
    "        #     x,y = self.get_start()\n",
    "        self.current_state = [x,y]\n",
    "        self.goal = goal.astype(np.int32)\n",
    "        self.actions = 4\n",
    "        if map[goal[0], goal[1]] != 0:\n",
    "            raise ValueError(\"Goal position is an obstacle\")\n",
    "\n",
    "    def reset(self):\n",
    "        self.current_state = self.get_start()\n",
    "        return self.current_state\n",
    "\n",
    "    def get_start(self):\n",
    "      # start the agent in a random position within the map:\n",
    "       x= np.random.randint(0, self.map.shape[0]-1)\n",
    "       y= np.random.randint(0,self.map.shape[1]-1)\n",
    "    #    print(\"start\", x,y)\n",
    "       return [x,y]\n",
    "     \n",
    "    def is_onboard( self,position ):\n",
    "        if((position[0] >= 0 and position[1] >= 0) and position[0]<self.map.shape[0] and position[1]<self.map.shape[1]):\n",
    "            return True        \n",
    "        else:\n",
    "            return False   \n",
    "    \n",
    "    def is_not_obstacle(self, position): # Checks a Position is obstacle or Not\n",
    "        if(self.map[position] == 1):\n",
    "            return False\n",
    "        return True\n",
    "\n",
    "    def isValid( self,position): \n",
    "        if self.is_onboard(position) and self.map[position] != 1 and  self.map[position] == 0 :\n",
    "            return True\n",
    "        return False\n",
    "    def step(self, action):\n",
    "      # this function applies the action taken and returns the next state, the reward and a variable that says if the goal is reached\n",
    "      # action: 0 = up, 1 = down, 2 = left, 3 = right\n",
    "        x, y = self.current_state\n",
    "\n",
    "        if action == 0 :  # Up\n",
    "            y-=1\n",
    "        elif action == 1:  # Down\n",
    "            y+=1\n",
    "        elif action == 2:  # Left\n",
    "            x-=1\n",
    "        elif action == 3:  # Right\n",
    "            x+=1\n",
    "                   \n",
    "        if(self.isValid((x,y))):\n",
    "         \n",
    "          self.current_state = [x, y]\n",
    "\n",
    "        # Define the reward and check if the goal is reached\n",
    "        reward = -1  # Default reward for each step\n",
    "        done = False\n",
    "\n",
    "        if np.array_equal(self.current_state, self.goal):\n",
    "            reward = 1  # Reward for reaching the goal\n",
    "            done = True\n",
    "\n",
    "        return self.current_state, reward, done\n",
    "\n",
    "    def render(self, i=0):\n",
    "        plt.matshow(self.map, cmap = \"jet\")\n",
    "        plt.title('Map')\n",
    "        plt.colorbar()\n",
    "        plt.scatter(self.current_state[1], self.current_state[0], c = 'r')\n",
    "        plt.scatter(self.goal[1], self.goal[0], c = 'g')\n",
    "        # plt.savefig(\"q_learning_{0:04}.png\".format(i), dpi = 300)\n",
    "        plt.show()"
   ]
  },
  {
   "cell_type": "markdown",
   "metadata": {
    "id": "OXg1_4u6ul0K"
   },
   "source": [
    "## QLearning algorithm"
   ]
  },
  {
   "cell_type": "markdown",
   "metadata": {
    "id": "k7uF89DbFVVq"
   },
   "source": [
    "QLearning class creates and trains the policy at every episode using the information provided by the environment. After the training is over, the optimal policy and the value function are obtained.\n",
    "\n",
    "As in the MapEnv class, you have to fill the empty functions following the previous pseudocode."
   ]
  },
  {
   "cell_type": "code",
   "execution_count": 10,
   "metadata": {
    "id": "3qnWaAKPul0L"
   },
   "outputs": [],
   "source": [
    "class QLearning:\n",
    "    def __init__(self, env, alpha, gamma, epsilon, n_episodes, n_iterations):\n",
    "        self.env = env\n",
    "        self.alpha = alpha\n",
    "        self.gamma = gamma\n",
    "        self.epsilon = epsilon\n",
    "        self.n_episodes = n_episodes\n",
    "        self.n_iterations = n_iterations\n",
    "        self.Q = np.random.rand(env.map.shape[0], env.map.shape[1], env.actions)\n",
    "        # print(self.Q)\n",
    "\n",
    "    def epsilon_greedy_policy(self, s, epsilon):\n",
    "      # Epsilon greedy policy (choose a random action with probability epsilon)\n",
    "      if np.random.rand() < epsilon:\n",
    "        # Explore: choose a random action\n",
    "        return np.random.randint(0, self.env.actions)\n",
    "      else:\n",
    "        # Exploit: choose the action with the highest Q-value\n",
    "        return np.argmax(self.Q[s[0], s[1]])\n",
    "\n",
    "    def episode(self, alpha, epsilon):\n",
    "      # Episode execution for n_iterations. Generate an action with epsilon_greedy_policy,\n",
    "        total_reward = 0\n",
    "        s = self.env.reset()\n",
    "\n",
    "        for _ in range(self.n_iterations):\n",
    "            a = self.epsilon_greedy_policy(s, epsilon)\n",
    "            s_prime, r, done = self.env.step(a)\n",
    "\n",
    "            # Update Q-value using the Q-learning update rule\n",
    "            self.Q[s[0], s[1], a] += alpha * (r + self.gamma * np.max(self.Q[s_prime[0], s_prime[1]]) - self.Q[s[0], s[1], a])\n",
    "\n",
    "            total_reward += r\n",
    "            s = s_prime\n",
    "\n",
    "            if done:\n",
    "                break\n",
    "\n",
    "        return total_reward   \n",
    "      \n",
    "\n",
    "    def train(self, check_every_n_episodes=200, average_n_episodes=50):\n",
    "        \"\"\"Execute n_episodes and every 200 episodes stop training in order to retrieve\n",
    "            the average reward for 100 episodes, then resume training\"\"\"\n",
    "\n",
    "        accumulated_rewards = []\n",
    "        for i in range(self.n_episodes):\n",
    "            self.episode(self.alpha, self.epsilon)\n",
    "\n",
    "            if i % check_every_n_episodes == 0:\n",
    "                accum_reward = 0\n",
    "                for j in range(average_n_episodes):\n",
    "                    total_reward = self.episode(0, 0)\n",
    "                    accum_reward += total_reward\n",
    "                accumulated_rewards.append(accum_reward / average_n_episodes)\n",
    "                # print(accumulated_rewards[-1], end=\" \")\n",
    "\n",
    "        return accumulated_rewards\n",
    "\n",
    "    def get_optimal_policy(self):\n",
    "        \"\"\"Retrieve the optimal policy from Q(s,a)\"\"\"\n",
    "        policy = np.argmax(self.Q, axis = 2)\n",
    "        policy[self.env.map == 1] = -1\n",
    "        policy[self.env.goal[0], self.env.goal[1]] = -2\n",
    "        return policy\n",
    "\n",
    "    def value_function(self):\n",
    "        \"\"\"Retrieve the optimal value function from from Q(s,a)\"\"\"\n",
    "        v = np.max(self.Q, axis = 2)\n",
    "        v[self.env.map == 1] = -np.inf\n",
    "        return v\n"
   ]
  },
  {
   "cell_type": "markdown",
   "metadata": {
    "id": "MHXBD26aul0N"
   },
   "source": [
    "## Training"
   ]
  },
  {
   "cell_type": "markdown",
   "metadata": {
    "id": "7U2V6wf_-ZVP"
   },
   "source": [
    "For the training you need to choose some parameters experimentally. Uncomment the parameters and test different values to see how the training results change.\n",
    "\n",
    "Parameters:\n",
    "\n",
    "*alpha*: learning rate of the algorithm\n",
    "\n",
    "*gamma*: discount factor of the algorithm\n",
    "\n",
    "*epsilon*: random action probability\n",
    "\n",
    "*n_episodes*: number of episode repetitions\n",
    "\n",
    "*n_iterations*: number of iterations per episode"
   ]
  },
  {
   "cell_type": "code",
   "execution_count": 11,
   "metadata": {
    "id": "eLtF2eDUul0O"
   },
   "outputs": [
    {
     "data": {
      "text/plain": [
       "[<matplotlib.lines.Line2D at 0x70df3c49be80>]"
      ]
     },
     "execution_count": 11,
     "metadata": {},
     "output_type": "execute_result"
    },
    {
     "data": {
      "image/png": "[encoded data removed]",
      "text/plain": [
       "<Figure size 640x480 with 1 Axes>"
      ]
     },
     "metadata": {},
     "output_type": "display_data"
    }
   ],
   "source": [
    "env = MapEnv(grid_map, np.array([3, 18]))\n",
    "alpha = 0.1\n",
    "gamma = 0.9\n",
    "epsilon = 0.3\n",
    "n_episodes = 20000\n",
    "n_iterations = 100\n",
    "ql = QLearning(env, alpha, gamma, epsilon, n_episodes, n_iterations)\n",
    "rewards = ql.train()\n",
    "plt.plot(rewards)"
   ]
  },
  {
   "cell_type": "markdown",
   "metadata": {
    "id": "hJWZblvUul0O"
   },
   "source": [
    "## Plot value function and optimal policy"
   ]
  },
  {
   "cell_type": "code",
   "execution_count": 12,
   "metadata": {
    "id": "w_z8566Oul0P"
   },
   "outputs": [],
   "source": [
    "# v = ql.value_function()\n",
    "# plt.matshow(v, cmap = \"jet\")\n",
    "# plt.title('Value Function')\n",
    "# plt.colorbar()\n",
    "\n",
    "# policy = ql.get_optimal_policy()\n",
    "# plt.matshow(policy, cmap = \"jet\")\n",
    "# plt.title('Optimal Policy: 0 = up, 1 = down, 2 = left, 3 = right')\n",
    "# plt.colorbar()"
   ]
  },
  {
   "cell_type": "markdown",
   "metadata": {
    "id": "G0HhgeIAul0Q"
   },
   "source": [
    "## Test current Policy"
   ]
  },
  {
   "cell_type": "markdown",
   "metadata": {
    "id": "To2nTQUn_HGM"
   },
   "source": [
    "Once the training is over, we can see what the robot has learnt to do. You can test it with other goal positions and other maps, to see of the policy is able to adapt to other situations."
   ]
  },
  {
   "cell_type": "code",
   "execution_count": 13,
   "metadata": {
    "id": "YTD9Hsxiul0Q"
   },
   "outputs": [
    {
     "ename": "KeyboardInterrupt",
     "evalue": "",
     "output_type": "error",
     "traceback": [
      "\u001b[0;31m---------------------------------------------------------------------------\u001b[0m",
      "\u001b[0;31mKeyboardInterrupt\u001b[0m                         Traceback (most recent call last)",
      "Cell \u001b[0;32mIn[13], line 9\u001b[0m\n\u001b[1;32m      7\u001b[0m \u001b[38;5;28;01mwhile\u001b[39;00m \u001b[38;5;129;01mnot\u001b[39;00m done:\n\u001b[1;32m      8\u001b[0m     a \u001b[38;5;241m=\u001b[39m policy[s[\u001b[38;5;241m0\u001b[39m], s[\u001b[38;5;241m1\u001b[39m]]\n\u001b[0;32m----> 9\u001b[0m     s, reward, done \u001b[38;5;241m=\u001b[39m \u001b[43menv\u001b[49m\u001b[38;5;241;43m.\u001b[39;49m\u001b[43mstep\u001b[49m\u001b[43m(\u001b[49m\u001b[43ma\u001b[49m\u001b[43m)\u001b[49m\n\u001b[1;32m     10\u001b[0m     \u001b[38;5;66;03m# env.render(i)\u001b[39;00m\n\u001b[1;32m     11\u001b[0m     i \u001b[38;5;241m+\u001b[39m\u001b[38;5;241m=\u001b[39m \u001b[38;5;241m1\u001b[39m\n",
      "Cell \u001b[0;32mIn[9], line 63\u001b[0m, in \u001b[0;36mMapEnv.step\u001b[0;34m(self, action)\u001b[0m\n\u001b[1;32m     60\u001b[0m reward \u001b[38;5;241m=\u001b[39m \u001b[38;5;241m-\u001b[39m\u001b[38;5;241m1\u001b[39m  \u001b[38;5;66;03m# Default reward for each step\u001b[39;00m\n\u001b[1;32m     61\u001b[0m done \u001b[38;5;241m=\u001b[39m \u001b[38;5;28;01mFalse\u001b[39;00m\n\u001b[0;32m---> 63\u001b[0m \u001b[38;5;28;01mif\u001b[39;00m \u001b[43mnp\u001b[49m\u001b[38;5;241;43m.\u001b[39;49m\u001b[43marray_equal\u001b[49m\u001b[43m(\u001b[49m\u001b[38;5;28;43mself\u001b[39;49m\u001b[38;5;241;43m.\u001b[39;49m\u001b[43mcurrent_state\u001b[49m\u001b[43m,\u001b[49m\u001b[43m \u001b[49m\u001b[38;5;28;43mself\u001b[39;49m\u001b[38;5;241;43m.\u001b[39;49m\u001b[43mgoal\u001b[49m\u001b[43m)\u001b[49m:\n\u001b[1;32m     64\u001b[0m     reward \u001b[38;5;241m=\u001b[39m \u001b[38;5;241m1\u001b[39m  \u001b[38;5;66;03m# Reward for reaching the goal\u001b[39;00m\n\u001b[1;32m     65\u001b[0m     done \u001b[38;5;241m=\u001b[39m \u001b[38;5;28;01mTrue\u001b[39;00m\n",
      "File \u001b[0;32m<__array_function__ internals>:200\u001b[0m, in \u001b[0;36marray_equal\u001b[0;34m(*args, **kwargs)\u001b[0m\n",
      "\u001b[0;31mKeyboardInterrupt\u001b[0m: "
     ]
    }
   ],
   "source": [
    "env = MapEnv(grid_map, np.array([3, 17]))\n",
    "i = 0\n",
    "\n",
    "for j in range(1):\n",
    "    done = False\n",
    "    s = env.reset()\n",
    "    while not done:\n",
    "        a = policy[s[0], s[1]]\n",
    "        s, reward, done = env.step(a)\n",
    "        # env.render(i)\n",
    "        i += 1"
   ]
  },
  {
   "cell_type": "markdown",
   "metadata": {
    "id": "KKfb29-0BkCV"
   },
   "source": [
    "## Submission\n",
    "\n",
    "You must deliver this Python Interactive Notebook. The file must have the name q_learning_YOUR_NAME.ipynb. Also, you must do a report commenting the problems you encountered, a discussion on how the parameters affect the training and conclusions for the results obtained.\n",
    "\n",
    "Make sure that all cells can be executed."
   ]
  }
 ],
 "metadata": {
  "colab": {
   "provenance": []
  },
  "interpreter": {
   "hash": "e8efbb1c39583597a5dcee4af3da3e7c09711a134bb0c2976f954bb2a2f0e8df"
  },
  "kernelspec": {
   "display_name": "Python 3 (ipykernel)",
   "language": "python",
   "name": "python3"
  },
  "language_info": {
   "codemirror_mode": {
    "name": "ipython",
    "version": 3
   },
   "file_extension": ".py",
   "mimetype": "text/x-python",
   "name": "python",
   "nbconvert_exporter": "python",
   "pygments_lexer": "ipython3",
   "version": "3.8.10"
  }
 },
 "nbformat": 4,
 "nbformat_minor": 4
}
